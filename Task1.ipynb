{
 "cells": [
  {
   "cell_type": "markdown",
   "id": "15799bac-953f-4948-8c44-8cfbf5f91774",
   "metadata": {},
   "source": [
    "markdown\n",
    "## Task 1: Implementation of ANN\n",
    "\n",
    "In this section, I have developed a neural network architecture tailored for classifying breast cancer occurrences based on a feature vector containing 30 features. The architecture comprises an input layer, accommodating the 30 features, a hidden layer with 5 neurons, and an output layer with a single neuron, providing the classification prediction whether a patient has breast cancer or not.\n",
    "\n",
    "To mitigate potential numerical instability, a stabilized Sigmoid function is employed across all neurons. This adaptation helps circumvent overflow errors that may arise from the Wisconsin dataset's numerical intricacies.\n",
    "\n",
    "For training backpropagation algorithm has been adopted coupled with mini-batch gradient descent. This approach facilitates efficient convergence towards optimal parameter values by updating weights and biases iteratively. The training process spans 500 epochs, with a modest learning rate of 0.01, ensuring gradual adjustments to model parameters for stable optimization.\n",
    "\n",
    "Upon completion of training, the neural network's performance is evaluated. The final trained model yields insights into both the error/loss values and the accuracy metrics for both the test and training datasets. These metrics serve as key indicators of the model's efficacy in discerning breast cancer occurrences accurately.\n",
    "\n",
    "By integrating sophisticated techniques and methodologies, this neural network framework not only addresses numerical challenges inherent in the dataset but also strives to deliver robust and reliable predictive capabilities crucial for cancer diagnosis and prognosis."
   ]
  },
  {
   "cell_type": "markdown",
   "id": "108ab549-4255-460a-b896-e57e49cdb19a",
   "metadata": {},
   "source": [
    "### Step 1. Data Preparation:\n",
    "- Loads the Breast Cancer Wisconsin dataset.\n",
    "- Splits the dataset into training and testing sets using train_test_split() from scikit-learn."
   ]
  },
  {
   "cell_type": "code",
   "execution_count": 1,
   "id": "69010a99-6b00-48b7-acd1-7c180b50f05d",
   "metadata": {},
   "outputs": [],
   "source": [
    "import numpy as np\n",
    "from sklearn.datasets import load_breast_cancer\n",
    "from sklearn.model_selection import train_test_split\n",
    "from sklearn.preprocessing import StandardScaler\n",
    "from sklearn import metrics\n",
    "from sklearn.metrics import roc_curve, auc\n",
    "import matplotlib.pyplot as plt\n",
    "\n",
    "# Load the breast cancer Wisconsin dataset\n",
    "data = load_breast_cancer()\n",
    "x = data.data\n",
    "y = data.target\n",
    "\n",
    "# Split data into training and testing sets\n",
    "x_train, x_test, y_train, y_test = train_test_split(x, y, test_size=0.2, random_state=42)"
   ]
  },
  {
   "cell_type": "markdown",
   "id": "719d22b0-0fc5-4f06-9908-3fb6ee931a32",
   "metadata": {},
   "source": [
    "### Neural Network Setup:\n",
    "- Defines the architecture of a neural network with an input layer, a hidden layer with 5 nodes, and an output layer with 1 node.\n",
    "- Sets hyperparameters like learning rate, number of epochs, and batch size."
   ]
  },
  {
   "cell_type": "code",
   "execution_count": 2,
   "id": "f08435fd-d111-461a-a66e-8b1fd6b853b8",
   "metadata": {},
   "outputs": [],
   "source": [
    "# Define the neural network architecture\n",
    "np.random.seed(0)\n",
    "input_size = x_train.shape[1]\n",
    "hidden_size = 5\n",
    "output_size = 1\n",
    "\n",
    "# Hyper params\n",
    "learning_rate = 0.01\n",
    "epochs = 500\n",
    "batch_size = 128"
   ]
  },
  {
   "cell_type": "markdown",
   "id": "d768b1cb-5f78-4d45-9f47-c9746d67f1b3",
   "metadata": {},
   "source": [
    "### Activation Functions and Loss Functions:\n",
    "- Defines the sigmoid activation function and its derivative.\n",
    "- Defines the cross-entropy loss function and its derivative."
   ]
  },
  {
   "cell_type": "code",
   "execution_count": 3,
   "id": "8a152da0-539c-47aa-97c2-a8a8bb7552d2",
   "metadata": {},
   "outputs": [],
   "source": [
    "# Define the sigmoid activation function and its derivative\n",
    "def sigmoid(v):\n",
    "    return 1 / (1 + np.exp(-np.clip(v, -500, 500)))\n",
    "\n",
    "def sigmoid_derivative(v):\n",
    "    sig = sigmoid(v)\n",
    "    sig_prime = sig * (1 - sig)\n",
    "    return sig_prime\n",
    "\n",
    "# Loss function and its derivative\n",
    "def crossEntropy(o, y):\n",
    "    return (-y * np.log(o) - (1 - y) * np.log(1 - o))\n",
    "\n",
    "def crossEntropyDeriv(o, y):\n",
    "    return -(y / o - (1 - y) / (1 - o))"
   ]
  },
  {
   "cell_type": "markdown",
   "id": "1259a1f0-85d1-4fb2-9edd-d55985ee3a79",
   "metadata": {},
   "source": [
    "### Initialization:\n",
    "- Initializes weights and biases for the neural network."
   ]
  },
  {
   "cell_type": "code",
   "execution_count": 4,
   "id": "33061872-ac3a-43da-a2cf-0651de82a121",
   "metadata": {},
   "outputs": [],
   "source": [
    "# Initialize weights and biases\n",
    "w1 = np.random.uniform(-1, 1, (input_size, hidden_size))\n",
    "b1 = np.zeros((1, hidden_size))\n",
    "w2 = np.random.uniform(-1, 1, (hidden_size, output_size))\n",
    "b2 = np.zeros((1, output_size))"
   ]
  },
  {
   "cell_type": "markdown",
   "id": "df5846c1-9085-4fe8-a3a1-d4747b710a0b",
   "metadata": {},
   "source": [
    "### Mini-Batch Creation:\n",
    "- Creates mini-batches from the training data for mini-batch gradient descent."
   ]
  },
  {
   "cell_type": "code",
   "execution_count": 5,
   "id": "1fbcf2e7-5ef6-49fa-afda-0eeeb26172fc",
   "metadata": {},
   "outputs": [],
   "source": [
    "# Define function for mini_batch creation\n",
    "def create_mini_batches(data, batch_size):\n",
    "    mini_batches = []\n",
    "    num_samples = data.shape[0]\n",
    "    num_batches = num_samples // batch_size\n",
    "\n",
    "    for i in range(num_batches):\n",
    "        start_idx = i * batch_size\n",
    "        end_idx = (i + 1) * batch_size\n",
    "        mini_batch = data[start_idx:end_idx]\n",
    "        mini_batches.append(mini_batch)\n",
    "\n",
    "    if num_samples % batch_size != 0:\n",
    "        start_idx = num_batches * batch_size\n",
    "        end_idx = num_samples\n",
    "        mini_batch = data[start_idx:end_idx]\n",
    "        mini_batches.append(mini_batch)\n",
    "\n",
    "    return mini_batches"
   ]
  },
  {
   "cell_type": "markdown",
   "id": "6bba71c2-f1a6-478f-aba2-914176474689",
   "metadata": {},
   "source": [
    "### Training the Model:\n",
    "- Trains the neural network using mini-batch gradient descent and backpropagation across the specified number of epochs.\n",
    "- Calculates training and testing errors and accuracies for each epoch."
   ]
  },
  {
   "cell_type": "code",
   "execution_count": 6,
   "id": "7d0715b0-f83c-4439-bcac-f83cbd06f4df",
   "metadata": {},
   "outputs": [],
   "source": [
    "# Combine training data and labels for mini_batch creation function\n",
    "training_data = np.hstack((x_train, y_train.reshape(-1, 1)))\n",
    "\n",
    "# Initialize lists to store training/testing error and accuracy\n",
    "train_errors = []\n",
    "test_errors = []\n",
    "train_accuracy = []\n",
    "test_accuracy = []\n",
    "\n",
    "# Train the model using backprogation using mini-batch gradient descent\n",
    "# across epoch range defined in hyper params\n",
    "for epoch in range(epochs):\n",
    "    np.random.shuffle(training_data) # Augment training data order to stop overfitting\n",
    "\n",
    "    # Initialize training/testing error and accuracy lists for the current epoch\n",
    "    batch_train_errors = []\n",
    "    batch_train_accuracy = []\n",
    "\n",
    "    for batch in create_mini_batches(training_data, 128):\n",
    "        # Forward pass\n",
    "        in1 = batch[:, :-1] @ w1 + b1\n",
    "        o1 = sigmoid(in1)\n",
    "        in2 = o1 @ w2 + b2\n",
    "        o2 = sigmoid(in2)\n",
    "\n",
    "        # Compute current error rate on training data\n",
    "        y_batch = batch[:, -1:]\n",
    "        error = crossEntropy(o2, y_batch).mean()\n",
    "        batch_train_errors.append(error)\n",
    "\n",
    "        # Compute accuracy of the model\n",
    "        pred_train = np.where(o2 > 0.5, 1, 0)\n",
    "        batch_train_accuracy.append(metrics.accuracy_score(y_batch, pred_train))\n",
    "\n",
    "        # Backpropagation Layer 2\n",
    "        dE_dO2 = crossEntropyDeriv(o2, y_batch)\n",
    "        dO2_dIn2 = sigmoid_derivative(in2)\n",
    "        dIn2_dW2 = o1\n",
    "        dIn2_B2 = b2\n",
    "        dE_dW2 = (1 / batch.shape[0]) * dIn2_dW2.T @ (dE_dO2 * dO2_dIn2)\n",
    "        dE_dB2 = (1 / batch.shape[0]) * np.ones([1, len(batch)]) @ (dE_dO2 * dO2_dIn2)\n",
    "\n",
    "        # Backpropagation Layer 1\n",
    "        dIn2_dO1 = w2\n",
    "        dO1_dIn1 = sigmoid_derivative(in1)\n",
    "        dIn1_dW1 = batch[:, :-1]\n",
    "        dE_dW1 = (1 / batch.shape[0]) * dIn1_dW1.T @ ((dE_dO2 * dO2_dIn2 @ dIn2_dO1.T) * dO1_dIn1)\n",
    "        dE_dB1 = (1 / batch.shape[0]) * np.ones([len(batch)]) @ ((dE_dO2 * dO2_dIn2 @ dIn2_dO1.T) * dO1_dIn1)\n",
    "\n",
    "        # Update NN parameters\n",
    "        b2 -= learning_rate * dE_dB2\n",
    "        w2 -= learning_rate * dE_dW2\n",
    "        b1 -= learning_rate * dE_dB1\n",
    "        w1 -= learning_rate * dE_dW1\n",
    "\n",
    "    # Evaluate model accuracy and error rate\n",
    "    pred_test = np.where(sigmoid(sigmoid(x_test @ w1 + b1) @ w2 + b2) > 0.5, 1, 0)\n",
    "    train_accuracy.append(np.array(batch_train_accuracy).mean())\n",
    "    test_accuracy.append(metrics.accuracy_score(y_test, pred_test))\n",
    "\n",
    "    train_errors.append(np.array(batch_train_errors).mean())\n",
    "    y_test = np.array(y_test)\n",
    "\n",
    "    out_test = np.array(sigmoid(sigmoid(x_test @ w1 + b1) @ w2 + b2)).flatten()\n",
    "    cross_entropy = crossEntropy(out_test, y_test).mean()\n",
    "    test_errors.append(cross_entropy)"
   ]
  },
  {
   "cell_type": "markdown",
   "id": "dde39824-47d4-454b-aa48-17ceb1fd92a3",
   "metadata": {},
   "source": [
    "### Visualization:\n",
    "- Plots the training and testing errors over the epochs to visualize the model's performance.\n",
    "- Plots the training and testing accuracies over the epochs for performance evaluation."
   ]
  },
  {
   "cell_type": "code",
   "execution_count": 7,
   "id": "350d3c3d-cfe3-49b1-ae60-7ba588154ae7",
   "metadata": {},
   "outputs": [
    {
     "data": {
      "image/png": "[encoded data removed]",
      "text/plain": [
       "<Figure size 1000x500 with 2 Axes>"
      ]
     },
     "metadata": {},
     "output_type": "display_data"
    }
   ],
   "source": [
    "# Step 4: Visualise model performance using error and accuracy\n",
    "    \n",
    "# Training/Testing Error graph plot\n",
    "epochs_range = np.arange(epochs)\n",
    "plt.figure(figsize=(10, 5))\n",
    "\n",
    "plt.subplot(1, 2, 1)\n",
    "plt.plot(epochs_range, train_errors, label=\"Train\", color='red')\n",
    "plt.plot(epochs_range, test_errors, label=\"Test\", color='blue')\n",
    "plt.legend(loc='best')\n",
    "plt.title('Error')\n",
    "\n",
    "# Training/Testing Accuracy graph plot\n",
    "plt.subplot(1, 2, 2)\n",
    "plt.plot(epochs_range, train_accuracy, label=\"Train\", color='red')\n",
    "plt.plot(epochs_range, test_accuracy, label=\"Test\", color='blue')\n",
    "plt.legend(loc='best')\n",
    "plt.title('Accuracy')\n",
    "\n",
    "plt.show()"
   ]
  },
  {
   "cell_type": "markdown",
   "id": "1c714655-6e4f-4fde-b54b-38990d25ddd7",
   "metadata": {},
   "source": [
    "### Printing Model Statistics:\n",
    "- Prints the initial and final training and testing errors and accuracies."
   ]
  },
  {
   "cell_type": "code",
   "execution_count": 8,
   "id": "c83a95a1-77e9-439a-9f1a-df9a3dcd6956",
   "metadata": {
    "scrolled": true
   },
   "outputs": [
    {
     "name": "stdout",
     "output_type": "stream",
     "text": [
      "Training Stats:\n",
      "           Metric     Value\n",
      "0     First Error  0.775753\n",
      "1     Final Error  0.653976\n",
      "2  First Accuracy  0.370846\n",
      "3  Final Accuracy  0.639332\n",
      "\n",
      "Testing Stats:\n",
      "           Metric     Value\n",
      "0     First Error  0.764798\n",
      "1     Final Error  0.662842\n",
      "2  First Accuracy  0.377193\n",
      "3  Final Accuracy  0.622807\n"
     ]
    }
   ],
   "source": [
    "import pandas as pd\n",
    "\n",
    "# Print baseline model statistics\n",
    "# Define the training and testing stats dictionaries\n",
    "training_stats = {\n",
    "    'Metric': ['First Error', 'Final Error', 'First Accuracy', 'Final Accuracy'],\n",
    "    'Value': [train_errors[0], train_errors[-1], train_accuracy[0], train_accuracy[-1]]\n",
    "}\n",
    "\n",
    "testing_stats = {\n",
    "    'Metric': ['First Error', 'Final Error', 'First Accuracy', 'Final Accuracy'],\n",
    "    'Value': [test_errors[0], test_errors[-1], test_accuracy[0], test_accuracy[-1]]\n",
    "}\n",
    "\n",
    "# Create DataFrames\n",
    "training_df = pd.DataFrame(training_stats)\n",
    "testing_df = pd.DataFrame(testing_stats)\n",
    "\n",
    "# Print DataFrames\n",
    "print(\"Training Stats:\")\n",
    "print(training_df)\n",
    "print(\"\\nTesting Stats:\")\n",
    "print(testing_df)"
   ]
  }
 ],
 "metadata": {
  "kernelspec": {
   "display_name": "Python 3 (ipykernel)",
   "language": "python",
   "name": "python3"
  },
  "language_info": {
   "codemirror_mode": {
    "name": "ipython",
    "version": 3
   },
   "file_extension": ".py",
   "mimetype": "text/x-python",
   "name": "python",
   "nbconvert_exporter": "python",
   "pygments_lexer": "ipython3",
   "version": "3.11.5"
  }
 },
 "nbformat": 4,
 "nbformat_minor": 5
}
